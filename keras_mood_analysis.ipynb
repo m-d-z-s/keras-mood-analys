{
  "cells": [
    {
      "cell_type": "markdown",
      "metadata": {
        "id": "view-in-github",
        "colab_type": "text"
      },
      "source": [
        "<a href=\"https://colab.research.google.com/github/m-d-z-s/keras-mood-analysis/blob/main/keras_mood_analysis.ipynb\" target=\"_parent\"><img src=\"https://colab.research.google.com/assets/colab-badge.svg\" alt=\"Open In Colab\"/></a>"
      ]
    },
    {
      "cell_type": "code",
      "execution_count": 4,
      "id": "initial_id",
      "metadata": {
        "collapsed": true,
        "ExecuteTime": {
          "end_time": "2023-12-11T10:28:45.198692300Z",
          "start_time": "2023-12-11T10:28:45.169949800Z"
        },
        "id": "initial_id"
      },
      "outputs": [],
      "source": [
        "%matplotlib inline\n",
        "import matplotlib\n",
        "import matplotlib.pyplot as plt"
      ]
    },
    {
      "cell_type": "code",
      "execution_count": 5,
      "outputs": [],
      "source": [
        "import numpy as np\n",
        "from keras import layers\n",
        "from keras import models"
      ],
      "metadata": {
        "ExecuteTime": {
          "end_time": "2023-12-11T10:34:35.509610500Z",
          "start_time": "2023-12-11T10:34:35.377543300Z"
        },
        "id": "6012e70f87250214"
      },
      "id": "6012e70f87250214"
    },
    {
      "cell_type": "code",
      "execution_count": 3,
      "outputs": [
        {
          "output_type": "stream",
          "name": "stdout",
          "text": [
            "Downloading data from https://storage.googleapis.com/tensorflow/tf-keras-datasets/imdb.npz\n",
            "17464789/17464789 [==============================] - 0s 0us/step\n"
          ]
        }
      ],
      "source": [
        "from keras.datasets import imdb\n",
        "(training_data, training_targets), (testing_data, testing_targets) = imdb.load_data(num_words=10000)\n",
        "data = np.concatenate((training_data, testing_data), axis=0)\n",
        "targets = np.concatenate((training_targets, testing_targets), axis=0)"
      ],
      "metadata": {
        "ExecuteTime": {
          "end_time": "2023-12-11T10:32:47.254886500Z",
          "start_time": "2023-12-11T10:32:47.085388500Z"
        },
        "colab": {
          "base_uri": "https://localhost:8080/"
        },
        "id": "4ca80f492e861e35",
        "outputId": "8dc10579-4969-40d5-f275-7ae482770a6b"
      },
      "id": "4ca80f492e861e35"
    },
    {
      "cell_type": "code",
      "execution_count": 6,
      "outputs": [
        {
          "output_type": "stream",
          "name": "stdout",
          "text": [
            "Categories: [0 1]\n",
            "Number of unique words: 9998\n"
          ]
        }
      ],
      "source": [
        "print(\"Categories:\", np.unique(targets))\n",
        "print(\"Number of unique words:\", len(np.unique(np.hstack(data))))"
      ],
      "metadata": {
        "ExecuteTime": {
          "start_time": "2023-12-11T10:26:41.764972400Z"
        },
        "colab": {
          "base_uri": "https://localhost:8080/"
        },
        "id": "623528f4425ee3ed",
        "outputId": "1c4eb773-733e-463d-9aa0-91c3380b5434"
      },
      "id": "623528f4425ee3ed"
    },
    {
      "cell_type": "code",
      "execution_count": 7,
      "outputs": [
        {
          "output_type": "stream",
          "name": "stdout",
          "text": [
            "Average Review length: 234.75892\n",
            "Standard Deviation: 173\n"
          ]
        }
      ],
      "source": [
        "length = [len(i) for i in data]\n",
        "print(\"Average Review length:\", np.mean(length))\n",
        "print(\"Standard Deviation:\", round(np.std(length)))"
      ],
      "metadata": {
        "ExecuteTime": {
          "start_time": "2023-12-11T10:26:41.768976200Z"
        },
        "colab": {
          "base_uri": "https://localhost:8080/"
        },
        "id": "4f10857b62ebc940",
        "outputId": "1a237f76-3106-4aba-d976-f5f2325fcad9"
      },
      "id": "4f10857b62ebc940"
    },
    {
      "cell_type": "code",
      "execution_count": 8,
      "outputs": [
        {
          "output_type": "stream",
          "name": "stdout",
          "text": [
            "Label: 1\n"
          ]
        }
      ],
      "source": [
        "print(\"Label:\", targets[0])"
      ],
      "metadata": {
        "ExecuteTime": {
          "start_time": "2023-12-11T10:26:41.771956100Z"
        },
        "colab": {
          "base_uri": "https://localhost:8080/"
        },
        "id": "4f2d3b0d893756f7",
        "outputId": "3e80e041-0128-4c60-9113-10205c72e759"
      },
      "id": "4f2d3b0d893756f7"
    },
    {
      "cell_type": "code",
      "execution_count": 9,
      "outputs": [
        {
          "output_type": "stream",
          "name": "stdout",
          "text": [
            "[1, 14, 22, 16, 43, 530, 973, 1622, 1385, 65, 458, 4468, 66, 3941, 4, 173, 36, 256, 5, 25, 100, 43, 838, 112, 50, 670, 2, 9, 35, 480, 284, 5, 150, 4, 172, 112, 167, 2, 336, 385, 39, 4, 172, 4536, 1111, 17, 546, 38, 13, 447, 4, 192, 50, 16, 6, 147, 2025, 19, 14, 22, 4, 1920, 4613, 469, 4, 22, 71, 87, 12, 16, 43, 530, 38, 76, 15, 13, 1247, 4, 22, 17, 515, 17, 12, 16, 626, 18, 2, 5, 62, 386, 12, 8, 316, 8, 106, 5, 4, 2223, 5244, 16, 480, 66, 3785, 33, 4, 130, 12, 16, 38, 619, 5, 25, 124, 51, 36, 135, 48, 25, 1415, 33, 6, 22, 12, 215, 28, 77, 52, 5, 14, 407, 16, 82, 2, 8, 4, 107, 117, 5952, 15, 256, 4, 2, 7, 3766, 5, 723, 36, 71, 43, 530, 476, 26, 400, 317, 46, 7, 4, 2, 1029, 13, 104, 88, 4, 381, 15, 297, 98, 32, 2071, 56, 26, 141, 6, 194, 7486, 18, 4, 226, 22, 21, 134, 476, 26, 480, 5, 144, 30, 5535, 18, 51, 36, 28, 224, 92, 25, 104, 4, 226, 65, 16, 38, 1334, 88, 12, 16, 283, 5, 16, 4472, 113, 103, 32, 15, 16, 5345, 19, 178, 32]\n"
          ]
        }
      ],
      "source": [
        "print(data[0])"
      ],
      "metadata": {
        "ExecuteTime": {
          "start_time": "2023-12-11T10:26:41.776771600Z"
        },
        "colab": {
          "base_uri": "https://localhost:8080/"
        },
        "id": "f58366a412e99ade",
        "outputId": "1e8eb326-c828-44a8-be1d-83b65d0ed3cb"
      },
      "id": "f58366a412e99ade"
    },
    {
      "cell_type": "code",
      "execution_count": 10,
      "outputs": [
        {
          "output_type": "stream",
          "name": "stdout",
          "text": [
            "Downloading data from https://storage.googleapis.com/tensorflow/tf-keras-datasets/imdb_word_index.json\n",
            "1641221/1641221 [==============================] - 0s 0us/step\n",
            "# this film was just brilliant casting location scenery story direction everyone's really suited the part they played and you could just imagine being there robert # is an amazing actor and now the same being director # father came from the same scottish island as myself so i loved the fact there was a real connection with this film the witty remarks throughout the film were great it was just brilliant so much that i bought the film as soon as it was released for # and would recommend it to everyone to watch and the fly fishing was amazing really cried at the end it was so sad and you know what they say if you cry at a film it must have been good and this definitely was also # to the two little boy's that played the # of norman and paul they were just brilliant children are often left out of the # list i think because the stars that play them all grown up are such a big profile for the whole film but these children are amazing and should be praised for what they have done don't you think the whole story was so lovely because it was true and was someone's life after all that was shared with us all\n"
          ]
        }
      ],
      "source": [
        "index = imdb.get_word_index()\n",
        "reverse_index = dict([(value, key) for (key, value) in index.items()])\n",
        "decoded = \" \".join( [reverse_index.get(i - 3, \"#\") for i in data[0]] )\n",
        "print(decoded)"
      ],
      "metadata": {
        "ExecuteTime": {
          "start_time": "2023-12-11T10:26:41.782658900Z"
        },
        "colab": {
          "base_uri": "https://localhost:8080/"
        },
        "id": "d9039d7e953216b0",
        "outputId": "b7e8322d-7b48-4c0f-9727-5f11a4d3530e"
      },
      "id": "d9039d7e953216b0"
    },
    {
      "cell_type": "code",
      "execution_count": 11,
      "outputs": [],
      "source": [
        "def vectorize(sequences, dimension = 10000):\n",
        "    results = np.zeros((len(sequences), dimension))\n",
        "    for i, sequence in enumerate(sequences):\n",
        "        results[i, sequence] = 1\n",
        "    return results\n",
        "\n",
        "data = vectorize(data)\n",
        "targets = np.array(targets).astype(\"float32\")"
      ],
      "metadata": {
        "ExecuteTime": {
          "end_time": "2023-12-11T10:26:41.786461900Z",
          "start_time": "2023-12-11T10:26:41.784834700Z"
        },
        "id": "e94730eb739e76e5"
      },
      "id": "e94730eb739e76e5"
    },
    {
      "cell_type": "code",
      "execution_count": 12,
      "outputs": [],
      "source": [
        "test_x = data[:10000]\n",
        "test_y = targets[:10000]"
      ],
      "metadata": {
        "ExecuteTime": {
          "start_time": "2023-12-11T10:26:41.787573900Z"
        },
        "id": "e8c303f0a7698765"
      },
      "id": "e8c303f0a7698765"
    },
    {
      "cell_type": "code",
      "execution_count": 13,
      "outputs": [],
      "source": [
        "train_x = data[10000:]\n",
        "train_y = targets[10000:]"
      ],
      "metadata": {
        "ExecuteTime": {
          "end_time": "2023-12-11T10:26:41.842594900Z",
          "start_time": "2023-12-11T10:26:41.789731500Z"
        },
        "id": "1dc16d5768f8c3f9"
      },
      "id": "1dc16d5768f8c3f9"
    },
    {
      "cell_type": "code",
      "source": [
        "model = models.Sequential()"
      ],
      "metadata": {
        "id": "2wGW_NP_dND-"
      },
      "id": "2wGW_NP_dND-",
      "execution_count": 15,
      "outputs": []
    },
    {
      "cell_type": "code",
      "execution_count": 16,
      "outputs": [],
      "source": [
        "# Input - Layer\n",
        "model.add(layers.Dense(50, activation = \"relu\", input_shape=(10000, )))"
      ],
      "metadata": {
        "ExecuteTime": {
          "start_time": "2023-12-11T10:26:41.792407400Z"
        },
        "id": "b813e2ac5831809d"
      },
      "id": "b813e2ac5831809d"
    },
    {
      "cell_type": "code",
      "source": [
        "# Hidden - Layers\n",
        "model.add(layers.Dropout(0.3, noise_shape=None, seed=None))\n",
        "model.add(layers.Dense(50, activation = \"relu\"))\n",
        "model.add(layers.Dropout(0.2, noise_shape=None, seed=None))\n",
        "model.add(layers.Dense(50, activation = \"relu\"))"
      ],
      "metadata": {
        "id": "PoUcIvjkdRoZ"
      },
      "id": "PoUcIvjkdRoZ",
      "execution_count": 18,
      "outputs": []
    },
    {
      "cell_type": "code",
      "source": [
        "# Output- Layer\n",
        "model.add(layers.Dense(1, activation = \"sigmoid\"))\n",
        "model.summary()"
      ],
      "metadata": {
        "colab": {
          "base_uri": "https://localhost:8080/"
        },
        "id": "P1ngKIAidXGW",
        "outputId": "54c8a2a2-afa7-4661-8336-0a5527857565"
      },
      "id": "P1ngKIAidXGW",
      "execution_count": 20,
      "outputs": [
        {
          "output_type": "stream",
          "name": "stdout",
          "text": [
            "Model: \"sequential\"\n",
            "_________________________________________________________________\n",
            " Layer (type)                Output Shape              Param #   \n",
            "=================================================================\n",
            " dense (Dense)               (None, 50)                500050    \n",
            "                                                                 \n",
            " dropout (Dropout)           (None, 50)                0         \n",
            "                                                                 \n",
            " dense_1 (Dense)             (None, 50)                2550      \n",
            "                                                                 \n",
            " dropout_1 (Dropout)         (None, 50)                0         \n",
            "                                                                 \n",
            " dense_2 (Dense)             (None, 50)                2550      \n",
            "                                                                 \n",
            " dense_3 (Dense)             (None, 1)                 51        \n",
            "                                                                 \n",
            "=================================================================\n",
            "Total params: 505201 (1.93 MB)\n",
            "Trainable params: 505201 (1.93 MB)\n",
            "Non-trainable params: 0 (0.00 Byte)\n",
            "_________________________________________________________________\n"
          ]
        }
      ]
    },
    {
      "cell_type": "code",
      "source": [
        "model.compile(\n",
        " optimizer = \"adam\",\n",
        " loss = \"binary_crossentropy\",\n",
        " metrics = [\"accuracy\"]\n",
        ")"
      ],
      "metadata": {
        "id": "x6Plub8Wdcex"
      },
      "id": "x6Plub8Wdcex",
      "execution_count": 21,
      "outputs": []
    },
    {
      "cell_type": "code",
      "source": [
        "results = model.fit(\n",
        " train_x, train_y,\n",
        " epochs= 2,\n",
        " batch_size = 500,\n",
        " validation_data = (test_x, test_y)\n",
        ")"
      ],
      "metadata": {
        "colab": {
          "base_uri": "https://localhost:8080/"
        },
        "id": "CbCylVvUdqPh",
        "outputId": "41a6affd-7674-48f8-a994-77a14c1558ed"
      },
      "id": "CbCylVvUdqPh",
      "execution_count": 22,
      "outputs": [
        {
          "output_type": "stream",
          "name": "stdout",
          "text": [
            "Epoch 1/2\n",
            "80/80 [==============================] - 6s 65ms/step - loss: 0.4103 - accuracy: 0.8137 - val_loss: 0.2626 - val_accuracy: 0.8932\n",
            "Epoch 2/2\n",
            "80/80 [==============================] - 7s 85ms/step - loss: 0.2152 - accuracy: 0.9173 - val_loss: 0.2681 - val_accuracy: 0.8892\n"
          ]
        }
      ]
    },
    {
      "cell_type": "code",
      "source": [
        "print(np.mean(results.history[\"val_accuracy\"]))"
      ],
      "metadata": {
        "colab": {
          "base_uri": "https://localhost:8080/"
        },
        "id": "he9vguRNd2XB",
        "outputId": "3aba0194-5837-4067-c117-84d524798b12"
      },
      "id": "he9vguRNd2XB",
      "execution_count": 23,
      "outputs": [
        {
          "output_type": "stream",
          "name": "stdout",
          "text": [
            "0.8911999762058258\n"
          ]
        }
      ]
    },
    {
      "cell_type": "code",
      "source": [],
      "metadata": {
        "id": "YmFgy75VeEjQ"
      },
      "id": "YmFgy75VeEjQ",
      "execution_count": null,
      "outputs": []
    }
  ],
  "metadata": {
    "kernelspec": {
      "display_name": "Python 3",
      "language": "python",
      "name": "python3"
    },
    "language_info": {
      "codemirror_mode": {
        "name": "ipython",
        "version": 2
      },
      "file_extension": ".py",
      "mimetype": "text/x-python",
      "name": "python",
      "nbconvert_exporter": "python",
      "pygments_lexer": "ipython2",
      "version": "2.7.6"
    },
    "colab": {
      "provenance": [],
      "include_colab_link": true
    }
  },
  "nbformat": 4,
  "nbformat_minor": 5
}